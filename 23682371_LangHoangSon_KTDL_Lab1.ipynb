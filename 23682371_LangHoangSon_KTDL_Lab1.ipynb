{
  "cells": [
    {
      "cell_type": "markdown",
      "id": "054f17ed",
      "metadata": {
        "id": "054f17ed"
      },
      "source": [
        "# Lab 02 - Bài tập"
      ]
    },
    {
      "cell_type": "markdown",
      "id": "d093f5b3",
      "metadata": {
        "id": "d093f5b3"
      },
      "source": [
        "---\n",
        "\n",
        "## THÔNG TIN\n",
        "\n",
        "- Họ tên: Lăng Hoàng Sơn\n",
        "- MSV: 23682371\n",
        "- Ngày hoàn thành: 11/1/2025\n"
      ]
    },
    {
      "cell_type": "markdown",
      "id": "e63fbe23",
      "metadata": {
        "id": "e63fbe23"
      },
      "source": [
        "---\n",
        "## NUMPY\n",
        "\n",
        "Bạn hãy phát sinh ngẫu nhiên mảng ndarray có tên `arr` gồm 100 phần tử số nguyên có giá trị từ 0..1000. Thực hiện các thao tác sau:"
      ]
    },
    {
      "cell_type": "markdown",
      "id": "f462030f",
      "metadata": {
        "id": "f462030f"
      },
      "source": [
        "### 1. Hiển thị các phần tử thỏa yêu cầu dưới đây\n",
        "\n",
        "- 10 phần tử đầu tiên\n",
        "- 5 phần tử cuối cùng\n",
        "- Các phần tử thỏa mãn điều kiện chia hết cho 5 và lớn hơn 100"
      ]
    },
    {
      "cell_type": "code",
      "execution_count": null,
      "id": "c785d08d",
      "metadata": {
        "id": "c785d08d",
        "outputId": "f42720ff-a3f8-4f24-f155-ff59269a4a90",
        "colab": {
          "base_uri": "https://localhost:8080/"
        }
      },
      "outputs": [
        {
          "output_type": "stream",
          "name": "stdout",
          "text": [
            "[442 685 361 684 716 626 955 102 769 850 273 721 144 160 577 952  64  45\n",
            " 928 837 949 636 693 717 543 172 703 804 871 504 720 588 516 409 701 420\n",
            " 900 180 619 755 692 595 449 216 921 883 282 461 148 312 564 398 406 983\n",
            " 177 363 756  69 114 521 443 588 133 681 526 873 297 871 540 413 197 770\n",
            " 973 578 835 530 443 996 425 231  24 484 701 237 333 795  99 620 823 139\n",
            " 638  75  44 996 905 598 826 680 797 209]\n",
            "\n",
            "\n",
            "Hien thi 10 phan tu dau tien\n",
            "[442 685 361 684 716 626 955 102 769 850]\n",
            "\n",
            "\n",
            "Hien thi 5 phan tu cuoi cung\n",
            "[598 826 680 797 209]\n",
            "\n",
            "\n",
            "Hien thi cac phan tu thoa man dieu kien\n",
            "685\n",
            "955\n",
            "850\n",
            "160\n",
            "720\n",
            "420\n",
            "900\n",
            "180\n",
            "755\n",
            "595\n",
            "540\n",
            "770\n",
            "835\n",
            "530\n",
            "425\n",
            "795\n",
            "620\n",
            "905\n",
            "680\n",
            "[685 955 850 160 720 420 900 180 755 595 540 770 835 530 425 795 620 905\n",
            " 680]\n"
          ]
        }
      ],
      "source": [
        "import numpy as np\n",
        "\n",
        "mang = np.random.randint(0, 1001, size = 100)\n",
        "print(mang)\n",
        "print(\"\\n\")\n",
        "\n",
        "print(\"Hien thi 10 phan tu dau tien\")\n",
        "print(mang[0:10])\n",
        "print(\"\\n\")\n",
        "\n",
        "print(\"Hien thi 5 phan tu cuoi cung\")\n",
        "print(mang[-5:])\n",
        "\n",
        "print(\"\\n\")\n",
        "\n",
        "print(\"Hien thi cac phan tu thoa man dieu kien\")\n",
        "# Cach 1\n",
        "for i in mang:\n",
        "  if(i%5 == 0 and i > 100):\n",
        "    print(i)\n",
        "#Cach 2\n",
        "print(mang[(mang % 5 == 0) & (mang > 100)])"
      ]
    },
    {
      "cell_type": "markdown",
      "id": "1cd7cd06",
      "metadata": {
        "id": "1cd7cd06"
      },
      "source": [
        "### 2. Cho biết mảng trên có bao nhiêu phần tử có giá trị nhỏ hơn 100. Hiển thị các phần tử đó"
      ]
    },
    {
      "cell_type": "code",
      "execution_count": null,
      "id": "e45b320d",
      "metadata": {
        "id": "e45b320d",
        "outputId": "479f09b1-7cea-4338-aa8c-ad7b0619c3db",
        "colab": {
          "base_uri": "https://localhost:8080/"
        }
      },
      "outputs": [
        {
          "output_type": "stream",
          "name": "stdout",
          "text": [
            "[24 44 45 64 69 75 99]\n"
          ]
        }
      ],
      "source": [
        "mang_nho_hon_100 = mang[mang < 100]\n",
        "mang_nho_hon_100.sort()\n",
        "print(mang_nho_hon_100)\n",
        "\n"
      ]
    },
    {
      "cell_type": "markdown",
      "id": "93cf52fa",
      "metadata": {
        "id": "93cf52fa"
      },
      "source": [
        "### 3. Thực hiện thống kê:\n",
        "\n",
        "- Tính tổng mảng\n",
        "- Tìm giá trị trung bình\n",
        "- Tìm giá trị trung vị\n",
        "- Tìm Q1, Q2, Q3\n",
        "- Tìm phân vị 20 (percentile 20)"
      ]
    },
    {
      "cell_type": "code",
      "execution_count": null,
      "id": "51d2ec6c",
      "metadata": {
        "id": "51d2ec6c",
        "outputId": "f2228b3f-6116-4797-f454-28a598e247e0",
        "colab": {
          "base_uri": "https://localhost:8080/"
        }
      },
      "outputs": [
        {
          "output_type": "stream",
          "name": "stdout",
          "text": [
            "50415\n",
            "504.15\n",
            "484.5\n",
            "273.0 484.5 743.0\n",
            "244.6\n"
          ]
        }
      ],
      "source": [
        "import numpy\n",
        "tong_mang = sum(mang)\n",
        "print(tong_mang)\n",
        "trungbinh_mang = mang.mean()\n",
        "print(trungbinh_mang)\n",
        "trungvi_mang = np.median(mang)\n",
        "print(trungvi_mang)\n",
        "Q1 = np.percentile(mang, 25)\n",
        "Q2 = np.percentile(mang, 50)\n",
        "Q3 = np.percentile(mang, 75)\n",
        "print(Q1,Q2,Q3)\n",
        "Q20 = np.percentile(mang,20)\n",
        "print(Q20)"
      ]
    },
    {
      "cell_type": "markdown",
      "id": "e4eb6cc6",
      "metadata": {
        "id": "e4eb6cc6"
      },
      "source": [
        "---\n",
        "\n",
        "## PANDAS"
      ]
    },
    {
      "cell_type": "markdown",
      "id": "01e2bed7",
      "metadata": {
        "id": "01e2bed7"
      },
      "source": [
        "Thông tin các bộ dữ liệu:\n",
        "\n",
        "- `car-sales.csv`: bộ dữ liệu chứa thông tin của các ôtô cũ ở một cửa hàng\n"
      ]
    },
    {
      "cell_type": "markdown",
      "id": "9314552d",
      "metadata": {
        "id": "9314552d"
      },
      "source": [
        "### 1. Đọc dữ liệu"
      ]
    },
    {
      "cell_type": "code",
      "execution_count": null,
      "id": "47ca9dc8",
      "metadata": {
        "id": "47ca9dc8"
      },
      "outputs": [],
      "source": [
        "# YOUR CODE HERE\n",
        "import pandas as pd\n",
        "grades = pd.read_csv('car-sales.csv', header = 0)"
      ]
    },
    {
      "cell_type": "markdown",
      "id": "06a61507",
      "metadata": {
        "id": "06a61507"
      },
      "source": [
        "### 2. Dữ liệu có bao nhiêu dòng, bao nhiêu cột\n",
        "\n",
        "Đáp án: (10 dòng, 5 cột)"
      ]
    },
    {
      "cell_type": "code",
      "execution_count": null,
      "id": "a18bcab5",
      "metadata": {
        "id": "a18bcab5",
        "outputId": "6bd8b13b-8286-4f0a-8030-d290bd53d4a8",
        "colab": {
          "base_uri": "https://localhost:8080/",
          "height": 363
        }
      },
      "outputs": [
        {
          "output_type": "execute_result",
          "data": {
            "text/plain": [
              "  Manufacturer Colour  Odometer  Doors    Price\n",
              "0       Toyota  White    150043      4   4000.0\n",
              "1        Honda    Red     87899      4   5000.0\n",
              "2       Toyota   Blue     32549      3   7000.0\n",
              "3          BMW  Black     11179      5  22000.0\n",
              "4       Nissan  White    213095      4   3500.0\n",
              "5       Toyota  Green     99213      4   4500.0\n",
              "6        Honda   Blue     45698      4   7500.0\n",
              "7        Honda   Blue     54738      4   7000.0\n",
              "8       Toyota  White     60000      4   6250.0\n",
              "9       Nissan  White     31600      4   9700.0"
            ],
            "text/html": [
              "\n",
              "  <div id=\"df-d13b9e86-e855-477d-bba7-f28f0d354cdd\" class=\"colab-df-container\">\n",
              "    <div>\n",
              "<style scoped>\n",
              "    .dataframe tbody tr th:only-of-type {\n",
              "        vertical-align: middle;\n",
              "    }\n",
              "\n",
              "    .dataframe tbody tr th {\n",
              "        vertical-align: top;\n",
              "    }\n",
              "\n",
              "    .dataframe thead th {\n",
              "        text-align: right;\n",
              "    }\n",
              "</style>\n",
              "<table border=\"1\" class=\"dataframe\">\n",
              "  <thead>\n",
              "    <tr style=\"text-align: right;\">\n",
              "      <th></th>\n",
              "      <th>Manufacturer</th>\n",
              "      <th>Colour</th>\n",
              "      <th>Odometer</th>\n",
              "      <th>Doors</th>\n",
              "      <th>Price</th>\n",
              "    </tr>\n",
              "  </thead>\n",
              "  <tbody>\n",
              "    <tr>\n",
              "      <th>0</th>\n",
              "      <td>Toyota</td>\n",
              "      <td>White</td>\n",
              "      <td>150043</td>\n",
              "      <td>4</td>\n",
              "      <td>4000.0</td>\n",
              "    </tr>\n",
              "    <tr>\n",
              "      <th>1</th>\n",
              "      <td>Honda</td>\n",
              "      <td>Red</td>\n",
              "      <td>87899</td>\n",
              "      <td>4</td>\n",
              "      <td>5000.0</td>\n",
              "    </tr>\n",
              "    <tr>\n",
              "      <th>2</th>\n",
              "      <td>Toyota</td>\n",
              "      <td>Blue</td>\n",
              "      <td>32549</td>\n",
              "      <td>3</td>\n",
              "      <td>7000.0</td>\n",
              "    </tr>\n",
              "    <tr>\n",
              "      <th>3</th>\n",
              "      <td>BMW</td>\n",
              "      <td>Black</td>\n",
              "      <td>11179</td>\n",
              "      <td>5</td>\n",
              "      <td>22000.0</td>\n",
              "    </tr>\n",
              "    <tr>\n",
              "      <th>4</th>\n",
              "      <td>Nissan</td>\n",
              "      <td>White</td>\n",
              "      <td>213095</td>\n",
              "      <td>4</td>\n",
              "      <td>3500.0</td>\n",
              "    </tr>\n",
              "    <tr>\n",
              "      <th>5</th>\n",
              "      <td>Toyota</td>\n",
              "      <td>Green</td>\n",
              "      <td>99213</td>\n",
              "      <td>4</td>\n",
              "      <td>4500.0</td>\n",
              "    </tr>\n",
              "    <tr>\n",
              "      <th>6</th>\n",
              "      <td>Honda</td>\n",
              "      <td>Blue</td>\n",
              "      <td>45698</td>\n",
              "      <td>4</td>\n",
              "      <td>7500.0</td>\n",
              "    </tr>\n",
              "    <tr>\n",
              "      <th>7</th>\n",
              "      <td>Honda</td>\n",
              "      <td>Blue</td>\n",
              "      <td>54738</td>\n",
              "      <td>4</td>\n",
              "      <td>7000.0</td>\n",
              "    </tr>\n",
              "    <tr>\n",
              "      <th>8</th>\n",
              "      <td>Toyota</td>\n",
              "      <td>White</td>\n",
              "      <td>60000</td>\n",
              "      <td>4</td>\n",
              "      <td>6250.0</td>\n",
              "    </tr>\n",
              "    <tr>\n",
              "      <th>9</th>\n",
              "      <td>Nissan</td>\n",
              "      <td>White</td>\n",
              "      <td>31600</td>\n",
              "      <td>4</td>\n",
              "      <td>9700.0</td>\n",
              "    </tr>\n",
              "  </tbody>\n",
              "</table>\n",
              "</div>\n",
              "    <div class=\"colab-df-buttons\">\n",
              "\n",
              "  <div class=\"colab-df-container\">\n",
              "    <button class=\"colab-df-convert\" onclick=\"convertToInteractive('df-d13b9e86-e855-477d-bba7-f28f0d354cdd')\"\n",
              "            title=\"Convert this dataframe to an interactive table.\"\n",
              "            style=\"display:none;\">\n",
              "\n",
              "  <svg xmlns=\"http://www.w3.org/2000/svg\" height=\"24px\" viewBox=\"0 -960 960 960\">\n",
              "    <path d=\"M120-120v-720h720v720H120Zm60-500h600v-160H180v160Zm220 220h160v-160H400v160Zm0 220h160v-160H400v160ZM180-400h160v-160H180v160Zm440 0h160v-160H620v160ZM180-180h160v-160H180v160Zm440 0h160v-160H620v160Z\"/>\n",
              "  </svg>\n",
              "    </button>\n",
              "\n",
              "  <style>\n",
              "    .colab-df-container {\n",
              "      display:flex;\n",
              "      gap: 12px;\n",
              "    }\n",
              "\n",
              "    .colab-df-convert {\n",
              "      background-color: #E8F0FE;\n",
              "      border: none;\n",
              "      border-radius: 50%;\n",
              "      cursor: pointer;\n",
              "      display: none;\n",
              "      fill: #1967D2;\n",
              "      height: 32px;\n",
              "      padding: 0 0 0 0;\n",
              "      width: 32px;\n",
              "    }\n",
              "\n",
              "    .colab-df-convert:hover {\n",
              "      background-color: #E2EBFA;\n",
              "      box-shadow: 0px 1px 2px rgba(60, 64, 67, 0.3), 0px 1px 3px 1px rgba(60, 64, 67, 0.15);\n",
              "      fill: #174EA6;\n",
              "    }\n",
              "\n",
              "    .colab-df-buttons div {\n",
              "      margin-bottom: 4px;\n",
              "    }\n",
              "\n",
              "    [theme=dark] .colab-df-convert {\n",
              "      background-color: #3B4455;\n",
              "      fill: #D2E3FC;\n",
              "    }\n",
              "\n",
              "    [theme=dark] .colab-df-convert:hover {\n",
              "      background-color: #434B5C;\n",
              "      box-shadow: 0px 1px 3px 1px rgba(0, 0, 0, 0.15);\n",
              "      filter: drop-shadow(0px 1px 2px rgba(0, 0, 0, 0.3));\n",
              "      fill: #FFFFFF;\n",
              "    }\n",
              "  </style>\n",
              "\n",
              "    <script>\n",
              "      const buttonEl =\n",
              "        document.querySelector('#df-d13b9e86-e855-477d-bba7-f28f0d354cdd button.colab-df-convert');\n",
              "      buttonEl.style.display =\n",
              "        google.colab.kernel.accessAllowed ? 'block' : 'none';\n",
              "\n",
              "      async function convertToInteractive(key) {\n",
              "        const element = document.querySelector('#df-d13b9e86-e855-477d-bba7-f28f0d354cdd');\n",
              "        const dataTable =\n",
              "          await google.colab.kernel.invokeFunction('convertToInteractive',\n",
              "                                                    [key], {});\n",
              "        if (!dataTable) return;\n",
              "\n",
              "        const docLinkHtml = 'Like what you see? Visit the ' +\n",
              "          '<a target=\"_blank\" href=https://colab.research.google.com/notebooks/data_table.ipynb>data table notebook</a>'\n",
              "          + ' to learn more about interactive tables.';\n",
              "        element.innerHTML = '';\n",
              "        dataTable['output_type'] = 'display_data';\n",
              "        await google.colab.output.renderOutput(dataTable, element);\n",
              "        const docLink = document.createElement('div');\n",
              "        docLink.innerHTML = docLinkHtml;\n",
              "        element.appendChild(docLink);\n",
              "      }\n",
              "    </script>\n",
              "  </div>\n",
              "\n",
              "\n",
              "<div id=\"df-21856a0e-a327-46ad-93c8-12e4a28a48ad\">\n",
              "  <button class=\"colab-df-quickchart\" onclick=\"quickchart('df-21856a0e-a327-46ad-93c8-12e4a28a48ad')\"\n",
              "            title=\"Suggest charts\"\n",
              "            style=\"display:none;\">\n",
              "\n",
              "<svg xmlns=\"http://www.w3.org/2000/svg\" height=\"24px\"viewBox=\"0 0 24 24\"\n",
              "     width=\"24px\">\n",
              "    <g>\n",
              "        <path d=\"M19 3H5c-1.1 0-2 .9-2 2v14c0 1.1.9 2 2 2h14c1.1 0 2-.9 2-2V5c0-1.1-.9-2-2-2zM9 17H7v-7h2v7zm4 0h-2V7h2v10zm4 0h-2v-4h2v4z\"/>\n",
              "    </g>\n",
              "</svg>\n",
              "  </button>\n",
              "\n",
              "<style>\n",
              "  .colab-df-quickchart {\n",
              "      --bg-color: #E8F0FE;\n",
              "      --fill-color: #1967D2;\n",
              "      --hover-bg-color: #E2EBFA;\n",
              "      --hover-fill-color: #174EA6;\n",
              "      --disabled-fill-color: #AAA;\n",
              "      --disabled-bg-color: #DDD;\n",
              "  }\n",
              "\n",
              "  [theme=dark] .colab-df-quickchart {\n",
              "      --bg-color: #3B4455;\n",
              "      --fill-color: #D2E3FC;\n",
              "      --hover-bg-color: #434B5C;\n",
              "      --hover-fill-color: #FFFFFF;\n",
              "      --disabled-bg-color: #3B4455;\n",
              "      --disabled-fill-color: #666;\n",
              "  }\n",
              "\n",
              "  .colab-df-quickchart {\n",
              "    background-color: var(--bg-color);\n",
              "    border: none;\n",
              "    border-radius: 50%;\n",
              "    cursor: pointer;\n",
              "    display: none;\n",
              "    fill: var(--fill-color);\n",
              "    height: 32px;\n",
              "    padding: 0;\n",
              "    width: 32px;\n",
              "  }\n",
              "\n",
              "  .colab-df-quickchart:hover {\n",
              "    background-color: var(--hover-bg-color);\n",
              "    box-shadow: 0 1px 2px rgba(60, 64, 67, 0.3), 0 1px 3px 1px rgba(60, 64, 67, 0.15);\n",
              "    fill: var(--button-hover-fill-color);\n",
              "  }\n",
              "\n",
              "  .colab-df-quickchart-complete:disabled,\n",
              "  .colab-df-quickchart-complete:disabled:hover {\n",
              "    background-color: var(--disabled-bg-color);\n",
              "    fill: var(--disabled-fill-color);\n",
              "    box-shadow: none;\n",
              "  }\n",
              "\n",
              "  .colab-df-spinner {\n",
              "    border: 2px solid var(--fill-color);\n",
              "    border-color: transparent;\n",
              "    border-bottom-color: var(--fill-color);\n",
              "    animation:\n",
              "      spin 1s steps(1) infinite;\n",
              "  }\n",
              "\n",
              "  @keyframes spin {\n",
              "    0% {\n",
              "      border-color: transparent;\n",
              "      border-bottom-color: var(--fill-color);\n",
              "      border-left-color: var(--fill-color);\n",
              "    }\n",
              "    20% {\n",
              "      border-color: transparent;\n",
              "      border-left-color: var(--fill-color);\n",
              "      border-top-color: var(--fill-color);\n",
              "    }\n",
              "    30% {\n",
              "      border-color: transparent;\n",
              "      border-left-color: var(--fill-color);\n",
              "      border-top-color: var(--fill-color);\n",
              "      border-right-color: var(--fill-color);\n",
              "    }\n",
              "    40% {\n",
              "      border-color: transparent;\n",
              "      border-right-color: var(--fill-color);\n",
              "      border-top-color: var(--fill-color);\n",
              "    }\n",
              "    60% {\n",
              "      border-color: transparent;\n",
              "      border-right-color: var(--fill-color);\n",
              "    }\n",
              "    80% {\n",
              "      border-color: transparent;\n",
              "      border-right-color: var(--fill-color);\n",
              "      border-bottom-color: var(--fill-color);\n",
              "    }\n",
              "    90% {\n",
              "      border-color: transparent;\n",
              "      border-bottom-color: var(--fill-color);\n",
              "    }\n",
              "  }\n",
              "</style>\n",
              "\n",
              "  <script>\n",
              "    async function quickchart(key) {\n",
              "      const quickchartButtonEl =\n",
              "        document.querySelector('#' + key + ' button');\n",
              "      quickchartButtonEl.disabled = true;  // To prevent multiple clicks.\n",
              "      quickchartButtonEl.classList.add('colab-df-spinner');\n",
              "      try {\n",
              "        const charts = await google.colab.kernel.invokeFunction(\n",
              "            'suggestCharts', [key], {});\n",
              "      } catch (error) {\n",
              "        console.error('Error during call to suggestCharts:', error);\n",
              "      }\n",
              "      quickchartButtonEl.classList.remove('colab-df-spinner');\n",
              "      quickchartButtonEl.classList.add('colab-df-quickchart-complete');\n",
              "    }\n",
              "    (() => {\n",
              "      let quickchartButtonEl =\n",
              "        document.querySelector('#df-21856a0e-a327-46ad-93c8-12e4a28a48ad button');\n",
              "      quickchartButtonEl.style.display =\n",
              "        google.colab.kernel.accessAllowed ? 'block' : 'none';\n",
              "    })();\n",
              "  </script>\n",
              "</div>\n",
              "\n",
              "    </div>\n",
              "  </div>\n"
            ],
            "application/vnd.google.colaboratory.intrinsic+json": {
              "type": "dataframe",
              "variable_name": "grades",
              "summary": "{\n  \"name\": \"grades\",\n  \"rows\": 10,\n  \"fields\": [\n    {\n      \"column\": \"Manufacturer\",\n      \"properties\": {\n        \"dtype\": \"category\",\n        \"num_unique_values\": 4,\n        \"samples\": [\n          \"Honda\",\n          \"Nissan\",\n          \"Toyota\"\n        ],\n        \"semantic_type\": \"\",\n        \"description\": \"\"\n      }\n    },\n    {\n      \"column\": \"Colour\",\n      \"properties\": {\n        \"dtype\": \"string\",\n        \"num_unique_values\": 5,\n        \"samples\": [\n          \"Red\",\n          \"Green\",\n          \"Blue\"\n        ],\n        \"semantic_type\": \"\",\n        \"description\": \"\"\n      }\n    },\n    {\n      \"column\": \"Odometer\",\n      \"properties\": {\n        \"dtype\": \"number\",\n        \"std\": 61983,\n        \"min\": 11179,\n        \"max\": 213095,\n        \"num_unique_values\": 10,\n        \"samples\": [\n          60000,\n          87899,\n          99213\n        ],\n        \"semantic_type\": \"\",\n        \"description\": \"\"\n      }\n    },\n    {\n      \"column\": \"Doors\",\n      \"properties\": {\n        \"dtype\": \"number\",\n        \"std\": 0,\n        \"min\": 3,\n        \"max\": 5,\n        \"num_unique_values\": 3,\n        \"samples\": [\n          4,\n          3,\n          5\n        ],\n        \"semantic_type\": \"\",\n        \"description\": \"\"\n      }\n    },\n    {\n      \"column\": \"Price\",\n      \"properties\": {\n        \"dtype\": \"number\",\n        \"std\": 5379.407753440687,\n        \"min\": 3500.0,\n        \"max\": 22000.0,\n        \"num_unique_values\": 9,\n        \"samples\": [\n          6250.0,\n          5000.0,\n          4500.0\n        ],\n        \"semantic_type\": \"\",\n        \"description\": \"\"\n      }\n    }\n  ]\n}"
            }
          },
          "metadata": {},
          "execution_count": 115
        }
      ],
      "source": [
        "# YOUR CODE HERE\n",
        "grades.shape\n",
        "grades.head(11)"
      ]
    },
    {
      "cell_type": "markdown",
      "id": "506c2c6c",
      "metadata": {
        "id": "506c2c6c"
      },
      "source": [
        "- Định tính (phân loại): Manufacturer, Colour\n",
        "- Định lượng: Odemeter, Price, Doors"
      ]
    },
    {
      "cell_type": "code",
      "execution_count": null,
      "id": "d7563796",
      "metadata": {
        "id": "d7563796",
        "outputId": "e1a06433-53ab-49c9-b6e1-83794b7bf97a",
        "colab": {
          "base_uri": "https://localhost:8080/"
        }
      },
      "outputs": [
        {
          "output_type": "stream",
          "name": "stdout",
          "text": [
            "Manufacturer     object\n",
            "Colour           object\n",
            "Odometer          int64\n",
            "Doors             int64\n",
            "Price           float64\n",
            "dtype: object\n",
            "\n",
            "Định tính : ['Manufacturer', 'Colour']\n",
            "Định lượng : ['Odometer', 'Doors', 'Price']\n"
          ]
        }
      ],
      "source": [
        "# YOUR CODE HERE\n",
        "# grades.head(11)\n",
        "# data_types = grades.dtypes\n",
        "\n",
        "# print(data_types)\n",
        "import pandas as pd\n",
        "\n",
        "data_types = grades.dtypes\n",
        "\n",
        "\n",
        "print(data_types)\n",
        "\n",
        "dinhtinh = data_types[data_types == 'object'].index.tolist()\n",
        "dinhluong = data_types[data_types != 'object'].index.tolist()\n",
        "\n",
        "print(\"\\nĐịnh tính :\", dinhtinh)\n",
        "print(\"Định lượng :\", dinhluong)"
      ]
    },
    {
      "cell_type": "markdown",
      "id": "0e06a27b",
      "metadata": {
        "id": "0e06a27b"
      },
      "source": [
        "### 3. Trong dữ liệu có thông tin của bao nhiêu xe?\n",
        "\n",
        "Đáp án: 10 xe"
      ]
    },
    {
      "cell_type": "code",
      "execution_count": null,
      "id": "d2223d39",
      "metadata": {
        "id": "d2223d39",
        "outputId": "41e8821b-8c16-4232-9f78-ec2c006d9f02",
        "colab": {
          "base_uri": "https://localhost:8080/"
        }
      },
      "outputs": [
        {
          "output_type": "stream",
          "name": "stdout",
          "text": [
            "10\n",
            "10\n"
          ]
        }
      ],
      "source": [
        "# YOUR CODE HERE\n",
        "dem_soluongxe = len(grades['Manufacturer'])\n",
        "print(dem_soluongxe)\n",
        "# YOUR CODE HERE\n",
        "dem_soluongxe = grades['Manufacturer'].count()\n",
        "print(dem_soluongxe)\n"
      ]
    },
    {
      "cell_type": "markdown",
      "id": "9fab6bd4",
      "metadata": {
        "id": "9fab6bd4"
      },
      "source": [
        "### 4. Đếm số xe theo theo hãng\n",
        "\n",
        "Đáp án: Toyota: 4 xe, Honda: 3 xe, Nissan: 2 xe, BMW: 1 xe"
      ]
    },
    {
      "cell_type": "code",
      "execution_count": null,
      "id": "ff20c98e",
      "metadata": {
        "id": "ff20c98e",
        "outputId": "360ad8e0-e648-482f-f509-4ac4667d30c3",
        "colab": {
          "base_uri": "https://localhost:8080/"
        }
      },
      "outputs": [
        {
          "output_type": "stream",
          "name": "stdout",
          "text": [
            "Manufacturer\n",
            "Toyota    4\n",
            "Honda     3\n",
            "Nissan    2\n",
            "BMW       1\n",
            "Name: count, dtype: int64\n"
          ]
        }
      ],
      "source": [
        "# YOUR CODE HERE\n",
        "dem_soluongxe = grades['Manufacturer'].value_counts()\n",
        "print(dem_soluongxe)"
      ]
    },
    {
      "cell_type": "markdown",
      "id": "8a29bdc4",
      "metadata": {
        "id": "8a29bdc4"
      },
      "source": [
        "### 5. Đếm số xe theo màu\n"
      ]
    },
    {
      "cell_type": "code",
      "execution_count": null,
      "id": "e303e538",
      "metadata": {
        "id": "e303e538",
        "outputId": "06b86c1f-bfe1-43d6-8efb-ffd3632005c3",
        "colab": {
          "base_uri": "https://localhost:8080/"
        }
      },
      "outputs": [
        {
          "output_type": "stream",
          "name": "stdout",
          "text": [
            "Colour\n",
            "White    4\n",
            "Blue     3\n",
            "Red      1\n",
            "Black    1\n",
            "Green    1\n",
            "Name: count, dtype: int64\n"
          ]
        }
      ],
      "source": [
        "# YOUR CODE HERE\n",
        "dem_soluongxe = grades['Colour'].value_counts()\n",
        "print(dem_soluongxe)"
      ]
    },
    {
      "cell_type": "markdown",
      "id": "7c911d06",
      "metadata": {
        "id": "7c911d06"
      },
      "source": [
        "### 6. Tổng giá trị các xe trong cửa hàng\n",
        "\n",
        "Đáp án: 76450 USD\n"
      ]
    },
    {
      "cell_type": "code",
      "execution_count": null,
      "id": "67f87531",
      "metadata": {
        "id": "67f87531",
        "outputId": "66e1de68-ad26-4e37-df71-102dd0510af3",
        "colab": {
          "base_uri": "https://localhost:8080/"
        }
      },
      "outputs": [
        {
          "output_type": "stream",
          "name": "stdout",
          "text": [
            "76450.0 USD\n"
          ]
        }
      ],
      "source": [
        "# YOUR CODE HERE\n",
        "tongtien = grades['Price'].sum()\n",
        "print(tongtien,\"USD\")"
      ]
    },
    {
      "cell_type": "markdown",
      "id": "6050e3b0",
      "metadata": {
        "id": "6050e3b0"
      },
      "source": [
        "### 7. Top 3 xe có giá cao nhất\n"
      ]
    },
    {
      "cell_type": "code",
      "execution_count": null,
      "id": "be72996a",
      "metadata": {
        "id": "be72996a",
        "outputId": "603ddfeb-11cd-436d-8a9f-c19292c71f31",
        "colab": {
          "base_uri": "https://localhost:8080/"
        }
      },
      "outputs": [
        {
          "output_type": "stream",
          "name": "stdout",
          "text": [
            "  Manufacturer Colour  Odometer  Doors    Price\n",
            "3          BMW  Black     11179      5  22000.0\n",
            "9       Nissan  White     31600      4   9700.0\n",
            "6        Honda   Blue     45698      4   7500.0\n"
          ]
        }
      ],
      "source": [
        "# YOUR CODE HERE\n",
        "top3 = grades.nlargest(3, 'Price')\n",
        "print(top3)"
      ]
    },
    {
      "cell_type": "markdown",
      "id": "8f6cc9c2",
      "metadata": {
        "id": "8f6cc9c2"
      },
      "source": [
        "### 8. Top 3 xe đã chạy nhiều cây số (km)nhất (Odometer)\n",
        "\n",
        "Đáp án:\n",
        "- Xe Nissan, White, 213095 km\n",
        "- Xe Toyota, White, 150043 km\n",
        "- Xe Toyota, Green, 99213 km"
      ]
    },
    {
      "cell_type": "code",
      "execution_count": null,
      "id": "ae2e8c30",
      "metadata": {
        "id": "ae2e8c30",
        "outputId": "609eca27-b385-40c0-9bf8-59e82aa00146",
        "colab": {
          "base_uri": "https://localhost:8080/"
        }
      },
      "outputs": [
        {
          "output_type": "stream",
          "name": "stdout",
          "text": [
            "  Manufacturer Colour  Odometer\n",
            "4       Nissan  White    213095\n",
            "0       Toyota  White    150043\n",
            "5       Toyota  Green     99213\n"
          ]
        }
      ],
      "source": [
        "# YOUR CODE HERE\n",
        "grades.head(11)\n",
        "top3 = grades.nlargest(3, 'Odometer')\n",
        "print(top3[['Manufacturer','Colour','Odometer']])"
      ]
    },
    {
      "cell_type": "markdown",
      "id": "ffc04c82",
      "metadata": {
        "id": "ffc04c82"
      },
      "source": [
        "### 9. Khảo sát xe của hãng Honda\n",
        "\n",
        "- Tính tỷ lệ xe Honda trong dữ liệu của cửa hàng (0.3)\n",
        "- Cho biết giá trung bình của xe hãng Honda của cửa hàng (6500)\n",
        "- Cho biết các xe của hãng Honda trong cửa hàng có những màu sắc nào (Red, Blue)"
      ]
    },
    {
      "cell_type": "code",
      "execution_count": null,
      "id": "e2c234f5",
      "metadata": {
        "id": "e2c234f5",
        "outputId": "347ffcbe-a654-4ac7-8275-a053c3bc9278",
        "colab": {
          "base_uri": "https://localhost:8080/"
        }
      },
      "outputs": [
        {
          "output_type": "stream",
          "name": "stdout",
          "text": [
            "Tỷ lệ xe Honda: 0.3\n",
            "Giá trung bình xe Honda: 6500.0\n",
            "Màu sắc xe Honda: ['Red' 'Blue']\n"
          ]
        }
      ],
      "source": [
        "# YOUR CODE HERE\n",
        "grades.head(11)\n",
        "tile_Honda = (grades['Manufacturer'] == 'Honda').mean()\n",
        "print(tile_Honda)\n",
        "tile_Honda = (grades['Manufacturer'] == 'Honda').mean()\n",
        "print(tile_Honda)\n",
        "\n",
        "honda = grades[grades['Manufacturer'] == 'Honda']\n",
        "gia_trungbinh_Honda = honda['Price'].mean()\n",
        "print(gia_trungbinh_Honda)\n",
        "#Cach 2\n",
        "# mau_sac_Honda = honda['Colour'].unique()\n",
        "# print(mau_sac_Honda)\n",
        "\n",
        "# tile_Honda = (grades['Manufacturer'] == 'Honda').mean()\n",
        "# print(\"Tỷ lệ xe Honda:\", tile_Honda)\n",
        "\n",
        "# gia_trungbinh_Honda = grades[grades['Manufacturer'] == 'Honda']['Price'].mean()\n",
        "# print(\"Giá trung bình xe Honda:\", gia_trungbinh_Honda)\n",
        "\n",
        "# mau_sac_Honda = grades.loc[grades['Manufacturer'] == 'Honda', 'Colour'].unique()\n",
        "# print(\"Màu sắc xe Honda:\", mau_sac_Honda)"
      ]
    },
    {
      "cell_type": "markdown",
      "id": "852ceeba",
      "metadata": {
        "id": "852ceeba"
      },
      "source": [
        "### 10. Tính toán các giá trị sau của  thuộc tính giá ('Price')\n",
        "\n",
        "- Giá trung bình các xe (7645)\n",
        "- Giá trị trung vị các xe (6625)\n",
        "- Miền giá trị của xe (18500)\n",
        "- Miền phân vị của xe (2750)\n",
        "- Điểm phân vị 0.4 và 0.6 của giá ([5750, 7000])"
      ]
    },
    {
      "cell_type": "code",
      "execution_count": null,
      "id": "f43fe1ac",
      "metadata": {
        "id": "f43fe1ac",
        "outputId": "b87f4c2a-67f1-4c72-dae9-eebb08b6d7d0",
        "colab": {
          "base_uri": "https://localhost:8080/"
        }
      },
      "outputs": [
        {
          "output_type": "stream",
          "name": "stdout",
          "text": [
            "Giá trung bình các xe  7645.0\n",
            "Giá trị trung vị các xe 6625.0\n",
            "Miền giá trị của xe 18500.0\n",
            "Miền phân vị của xe : 2750.0\n",
            "Điểm phân vị 0.4 và 0.6 của giá : 5750.0 7000.0\n"
          ]
        }
      ],
      "source": [
        "# YOUR CODE HERE\n",
        "grades.head(11)\n",
        "giatri_trungbinh = grades['Price'].mean()\n",
        "print(\"Giá trung bình các xe \",giatri_trungbinh)\n",
        "giatri_trungvi = grades['Price'].median()\n",
        "print(\"Giá trị trung vị các xe\", giatri_trungvi)\n",
        "\n",
        "#Miền giá trị là sự chênh lệch giữa giá trị lớn nhất và nhỏ nhất trong dữ liệu đó.\n",
        "giatri_min = grades['Price'].min()\n",
        "giatri_max = grades['Price'].max()\n",
        "giatri_mien = giatri_max - giatri_min\n",
        "print(\"Miền giá trị của xe\",giatri_mien)\n",
        "#Miền phân vị được tính bằng sự chênh lệch giữa phân vị 3 (Q3) và phân vị 1 (Q1):\n",
        "giatriphanvi_min = np.percentile(grades.Price, 25)\n",
        "giatriphanvi_max = np.percentile(grades.Price, 75)\n",
        "giatriphanvi_mien = giatriphanvi_max - giatriphanvi_min\n",
        "print(\"Miền phân vị của xe :\",giatriphanvi_mien)\n",
        "diemphanvi_04 = np.percentile(grades.Price, 40)\n",
        "diemphanvi_06 = np.percentile(grades.Price, 60)\n",
        "print(\"Điểm phân vị 0.4 và 0.6 của giá :\",diemphanvi_04,diemphanvi_06 )\n"
      ]
    },
    {
      "cell_type": "markdown",
      "id": "f97c2d3c",
      "metadata": {
        "id": "f97c2d3c"
      },
      "source": [
        "---"
      ]
    }
  ],
  "metadata": {
    "kernelspec": {
      "display_name": "Python 3 (ipykernel)",
      "language": "python",
      "name": "python3"
    },
    "language_info": {
      "codemirror_mode": {
        "name": "ipython",
        "version": 3
      },
      "file_extension": ".py",
      "mimetype": "text/x-python",
      "name": "python",
      "nbconvert_exporter": "python",
      "pygments_lexer": "ipython3",
      "version": "3.9.7"
    },
    "colab": {
      "provenance": []
    }
  },
  "nbformat": 4,
  "nbformat_minor": 5
}